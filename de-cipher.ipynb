{
 "cells": [
  {
   "cell_type": "code",
   "execution_count": null,
   "metadata": {},
   "outputs": [],
   "source": [
    "movi=\"Spider-Man.Into.the.Spider-Verse.2018.1080p.BRRip.x264-Spiderman\"\n",
    "movi=movi.split(\".\")\n",
    "import re\n",
    "s=\"\"\n",
    "for i in movi:\n",
    "    w=re.findall(\"[0-9]{4}\",i)\n",
    "    #print(i)\n",
    "    if w:\n",
    "        break;\n",
    "    s=s+i+\" \"\n",
    "print(s)"
   ]
  }
 ],
 "metadata": {
  "kernelspec": {
   "display_name": "Python 3",
   "language": "python",
   "name": "python3"
  },
  "language_info": {
   "codemirror_mode": {
    "name": "ipython",
    "version": 3
   },
   "file_extension": ".py",
   "mimetype": "text/x-python",
   "name": "python",
   "nbconvert_exporter": "python",
   "pygments_lexer": "ipython3",
   "version": "3.7.6"
  }
 },
 "nbformat": 4,
 "nbformat_minor": 4
}
