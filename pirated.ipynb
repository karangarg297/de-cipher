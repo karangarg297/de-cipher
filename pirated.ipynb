{
 "cells": [
  {
   "cell_type": "code",
   "execution_count": 1,
   "metadata": {},
   "outputs": [
    {
     "name": "stdout",
     "output_type": "stream",
     "text": [
      "Spider-Man Into the Spider-Verse \n",
      "Parasite \n",
      "Mission Impossible Fallout \n",
      "John Wick Chapter 3 - Parabellum \n",
      "Captain america the first avenger \n"
     ]
    }
   ],
   "source": [
    "import csv\n",
    "import re\n",
    "with open('movielist.csv', 'r') as f:\n",
    "  file = csv.reader(f)\n",
    "  my_list = list(file)\n",
    "#print(my_list)\n",
    "l=len(my_list)\n",
    "for i in range(1,l):\n",
    "    movi=my_list[i][1]\n",
    "    movi=movi.split(\".\")\n",
    "    s=\"\"\n",
    "    for i in movi:\n",
    "        w=re.findall(\"[0-9]{4}\",i)\n",
    "        #print(i)\n",
    "        if w:\n",
    "            break;\n",
    "        s=s+i+\" \"\n",
    "    print(s)"
   ]
  },
  {
   "cell_type": "code",
   "execution_count": null,
   "metadata": {},
   "outputs": [],
   "source": []
  }
 ],
 "metadata": {
  "kernelspec": {
   "display_name": "Python 3",
   "language": "python",
   "name": "python3"
  },
  "language_info": {
   "codemirror_mode": {
    "name": "ipython",
    "version": 3
   },
   "file_extension": ".py",
   "mimetype": "text/x-python",
   "name": "python",
   "nbconvert_exporter": "python",
   "pygments_lexer": "ipython3",
   "version": "3.7.6"
  }
 },
 "nbformat": 4,
 "nbformat_minor": 4
}
